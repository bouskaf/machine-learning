{
 "cells": [
  {
   "cell_type": "markdown",
   "metadata": {},
   "source": [
    "# Twitter Sentiment Analysis"
   ]
  },
  {
   "cell_type": "code",
   "execution_count": 2,
   "metadata": {},
   "outputs": [],
   "source": [
    "import tweepy\n",
    "from textblob import TextBlob\n"
   ]
  },
  {
   "cell_type": "markdown",
   "metadata": {},
   "source": [
    "authentication"
   ]
  },
  {
   "cell_type": "code",
   "execution_count": 5,
   "metadata": {},
   "outputs": [],
   "source": [
    "consumer_key = 'Tc0FYXZcxlLrowDDUPOJ1q1xc'\n",
    "consumer_secret = 'LMCrP3tVjjyNe1n8TdImp1f8kZrVqpeJCcXBW0a6M4JHobMckO'\n",
    "\n",
    "access_token = '396203971-NRqLdHJqxml7gRsBT2ATZ5YcbXS1rvWJYkOnADG1'\n",
    "access_token_secret = 'JMgRFUW5A7JZPmuKHLHfutDIofEe0fFx5XZH2wgs1Qkbv'\n",
    "\n",
    "auth = tweepy.OAuthHandler(consumer_key, consumer_secret)\n",
    "auth.set_access_token(access_token, access_token_secret)\n",
    "\n",
    "api = tweepy.API(auth)"
   ]
  },
  {
   "cell_type": "markdown",
   "metadata": {},
   "source": [
    "search tweet for given phrase\n",
    "\n",
    "perform sentiment analysis (polarity - how positivy the tweet is, subjectivity - how much the tweet is opinion versus how much factual it is)"
   ]
  },
  {
   "cell_type": "code",
   "execution_count": 17,
   "metadata": {},
   "outputs": [
    {
     "name": "stdout",
     "output_type": "stream",
     "text": [
      "RT @Jus_RawB: Obama = Dumbledore #BlackHogwarts\n",
      "Sentiment(polarity=0.0, subjectivity=0.0)\n",
      "\n",
      "RT @MichelleRMed: I see liberals are attacking Kellyanne Conway again. Funny, they never criticized a single female member of the Obama adm…\n",
      "Sentiment(polarity=0.05952380952380953, subjectivity=0.4603174603174603)\n",
      "\n",
      "RT @KimDotcom: Because it did not support the deep state ‘Russia’ narrative and delegitimization of Trump. Obama deep state loyalists tried…\n",
      "Sentiment(polarity=0.0, subjectivity=0.4)\n",
      "\n",
      "@Crunk5454 @Saphina77 @nzo11 Opra helped elect Obama, the the closest thing to being occupied by a foreign power in… https://t.co/QvH01mL20h\n",
      "Sentiment(polarity=0.3375, subjectivity=0.5125)\n",
      "\n",
      "RT @jerome_corsi: BREAKING: Obama's Deep State FBI and DOJ Caught Synchronizing Anti-Trump Classified Leaks to Liberal Media https://t.co/W…\n",
      "Sentiment(polarity=0.0, subjectivity=0.4)\n",
      "\n",
      "RT @SparkleSoup45: 💥#SpyGate CONFIRMED 💥\n",
      "\n",
      "PHONY\n",
      "UNSUBSTANTIATED\n",
      "DEBUNKED\n",
      "#TrumpDossier\n",
      "Bought &amp; PAID FOR by the DNC\n",
      "\n",
      "WAS used by OBAMA #FBI…\n",
      "Sentiment(polarity=0.4, subjectivity=1.0)\n",
      "\n",
      "@FoxNews @BarackObama This is Obama hate click bait. All items were given to the government after his term, but you… https://t.co/0TPhYb7mVm\n",
      "Sentiment(polarity=-0.8, subjectivity=0.9)\n",
      "\n",
      "RT @DineshDSouza: Obama’s use of a fake dossier to get permission to wiretap the other party’s candidate should be enough put that weasel b…\n",
      "Sentiment(polarity=-0.20833333333333334, subjectivity=0.625)\n",
      "\n",
      "RT @DineshDSouza: Obama’s use of a fake dossier to get permission to wiretap the other party’s candidate should be enough put that weasel b…\n",
      "Sentiment(polarity=-0.20833333333333334, subjectivity=0.625)\n",
      "\n",
      "Obama is a disgrace to the USA and the Office of President that he held for 8 yrs and for \"pardoning\" this criminal! https://t.co/HMOSg097t9\n",
      "Sentiment(polarity=-0.5, subjectivity=0.55)\n",
      "\n",
      "RT @antoinette2645: @Thomas1774Paine The law has merits, but was abused by Obama &amp; Clinton using a phony dossier. Trump wants to review the…\n",
      "Sentiment(polarity=0.2, subjectivity=0.1)\n",
      "\n",
      "RT @robertodeniz: Oligarquía, burguesía, el imperio, Bush, Obama, Trump, los empresarios, bachaqueros, Colombia, Uribe, Santos, Polar, Mend…\n",
      "Sentiment(polarity=-0.08333333333333333, subjectivity=0.25)\n",
      "\n",
      "RT @DineshDSouza: Obama’s use of a fake dossier to get permission to wiretap the other party’s candidate should be enough put that weasel b…\n",
      "Sentiment(polarity=-0.20833333333333334, subjectivity=0.625)\n",
      "\n",
      "RT @Imperator_Rex3: 7. This will be just the start of a much broader investigation into Obama's weaponization of the US state, into his own…\n",
      "Sentiment(polarity=0.2, subjectivity=0.2)\n",
      "\n",
      "RT @JakeSherman: the SAME POLL says: \"But 49 percent of voters say former President Barack Obama is more responsible for the\n",
      "state of the e…\n",
      "Sentiment(polarity=0.175, subjectivity=0.29375)\n",
      "\n"
     ]
    }
   ],
   "source": [
    "public_tweets = api.search('obama')\n",
    "\n",
    "for tweet in public_tweets:\n",
    "    print(tweet.text)\n",
    "    analysis = TextBlob(tweet.text)\n",
    "    print(analysis.sentiment)\n",
    "    print(\"\")"
   ]
  }
 ],
 "metadata": {
  "kernelspec": {
   "display_name": "Python [conda env:python35]",
   "language": "python",
   "name": "conda-env-python35-py"
  },
  "language_info": {
   "codemirror_mode": {
    "name": "ipython",
    "version": 3
   },
   "file_extension": ".py",
   "mimetype": "text/x-python",
   "name": "python",
   "nbconvert_exporter": "python",
   "pygments_lexer": "ipython3",
   "version": "3.5.4"
  }
 },
 "nbformat": 4,
 "nbformat_minor": 2
}
