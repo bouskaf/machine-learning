{
 "cells": [
  {
   "cell_type": "markdown",
   "metadata": {},
   "source": [
    "# Gender classifier using the sci-kit learn library"
   ]
  },
  {
   "cell_type": "code",
   "execution_count": 47,
   "metadata": {},
   "outputs": [],
   "source": [
    "from sklearn import tree\n",
    "from sklearn import svm\n",
    "from sklearn import linear_model\n",
    "from sklearn import neighbors\n",
    "from sklearn import preprocessing\n",
    "from sklearn import metrics\n",
    "import numpy as np"
   ]
  },
  {
   "cell_type": "markdown",
   "metadata": {},
   "source": [
    "try different classifiers"
   ]
  },
  {
   "cell_type": "code",
   "execution_count": 40,
   "metadata": {},
   "outputs": [],
   "source": [
    "knn_classifier = neighbors.KNeighborsClassifier()\n",
    "decision_tree_classifier = tree.DecisionTreeClassifier()\n",
    "logistic_regression_classifier = linear_model.LogisticRegression()\n",
    "percepton_classifier = linear_model.Perceptron()\n",
    "svm_classifier = svm.SVC()"
   ]
  },
  {
   "cell_type": "markdown",
   "metadata": {},
   "source": [
    "train data \n",
    "\n",
    "[height, weight, shoe_size]"
   ]
  },
  {
   "cell_type": "code",
   "execution_count": 22,
   "metadata": {},
   "outputs": [],
   "source": [
    "X_train = [[181, 80, 44], [177, 70, 43], [160, 60, 38], [154, 54, 37], [166, 65, 40],\n",
    "     [190, 90, 47], [175, 64, 39],\n",
    "     [177, 70, 40], [159, 55, 37], [171, 75, 42], [181, 85, 43]]"
   ]
  },
  {
   "cell_type": "markdown",
   "metadata": {},
   "source": [
    "train labels"
   ]
  },
  {
   "cell_type": "code",
   "execution_count": 23,
   "metadata": {},
   "outputs": [],
   "source": [
    "Y_train = ['male', 'male', 'female', 'female', 'male', 'male', 'female', 'female',\n",
    "     'female', 'male', 'male']"
   ]
  },
  {
   "cell_type": "markdown",
   "metadata": {},
   "source": [
    "train each classifier on data"
   ]
  },
  {
   "cell_type": "code",
   "execution_count": 41,
   "metadata": {},
   "outputs": [
    {
     "name": "stderr",
     "output_type": "stream",
     "text": [
      "C:\\Anaconda3\\envs\\python35\\lib\\site-packages\\sklearn\\linear_model\\stochastic_gradient.py:128: FutureWarning: max_iter and tol parameters have been added in <class 'sklearn.linear_model.perceptron.Perceptron'> in 0.19. If both are left unset, they default to max_iter=5 and tol=None. If tol is not None, max_iter defaults to max_iter=1000. From 0.21, default max_iter will be 1000, and default tol will be 1e-3.\n",
      "  \"and default tol will be 1e-3.\" % type(self), FutureWarning)\n"
     ]
    }
   ],
   "source": [
    "knn_classifier = knn_classifier.fit(X_train, Y_train)\n",
    "decision_tree_classifier = decision_tree_classifier.fit(X_train, Y_train)\n",
    "logistic_regression_classifier = logistic_regression_classifier.fit(X_train, Y_train)\n",
    "percepton_classifier = percepton_classifier.fit(X_train, Y_train)\n",
    "svm_classifier = svm_classifier.fit(X_train, Y_train)\n"
   ]
  },
  {
   "cell_type": "markdown",
   "metadata": {},
   "source": [
    "encode labels with value 0 (male) and 1 (female)"
   ]
  },
  {
   "cell_type": "code",
   "execution_count": 26,
   "metadata": {},
   "outputs": [
    {
     "data": {
      "text/plain": [
       "LabelEncoder()"
      ]
     },
     "execution_count": 26,
     "metadata": {},
     "output_type": "execute_result"
    }
   ],
   "source": [
    "le = preprocessing.LabelEncoder()\n",
    "le.fit(Y_train)"
   ]
  },
  {
   "cell_type": "markdown",
   "metadata": {},
   "source": [
    "test data"
   ]
  },
  {
   "cell_type": "code",
   "execution_count": 35,
   "metadata": {},
   "outputs": [],
   "source": [
    "X_test = [[177, 80, 44], [170, 60, 39], [160, 62, 38], [154, 54, 37], [188, 100, 45], \n",
    "          [178, 90, 43], [159, 44, 36], [177, 80, 42], [175, 70, 41], [184, 66, 44]]"
   ]
  },
  {
   "cell_type": "markdown",
   "metadata": {},
   "source": [
    "test labels"
   ]
  },
  {
   "cell_type": "code",
   "execution_count": 36,
   "metadata": {},
   "outputs": [],
   "source": [
    "Y_test = ['male', 'female', 'female', 'female', 'male', 'male', 'female', 'male', 'male', 'female']"
   ]
  },
  {
   "cell_type": "markdown",
   "metadata": {},
   "source": [
    "get prediction"
   ]
  },
  {
   "cell_type": "code",
   "execution_count": 42,
   "metadata": {},
   "outputs": [],
   "source": [
    "pred_knn = knn_classifier.predict(X_test)\n",
    "pred_decision_tree = decision_tree_classifier.predict(X_test)\n",
    "pred_logisitic_regression = logistic_regression_classifier.predict(X_test)\n",
    "pred_percepton = percepton_classifier.predict(X_test)\n",
    "pred_svm = svm_classifier.predict(X_test)\n"
   ]
  },
  {
   "cell_type": "markdown",
   "metadata": {},
   "source": [
    "get accuracy"
   ]
  },
  {
   "cell_type": "code",
   "execution_count": 43,
   "metadata": {},
   "outputs": [],
   "source": [
    "acc_knn = metrics.accuracy_score(Y_test, pred_knn)\n",
    "acc_decision_tree = metrics.accuracy_score(Y_test, pred_decision_tree)\n",
    "acc_logisitic_regression = metrics.accuracy_score(Y_test, pred_logisitic_regression)\n",
    "acc_percepton = metrics.accuracy_score(Y_test, pred_percepton)\n",
    "acc_svm = metrics.accuracy_score(Y_test, pred_svm)\n"
   ]
  },
  {
   "cell_type": "markdown",
   "metadata": {},
   "source": [
    "print results"
   ]
  },
  {
   "cell_type": "code",
   "execution_count": 44,
   "metadata": {},
   "outputs": [
    {
     "name": "stdout",
     "output_type": "stream",
     "text": [
      "Accuracy for knn: 0.9\n",
      "Accuracy for decision tree: 0.8\n",
      "Accuracy for logistic regression: 1.0\n",
      "Accuracy for percepton: 0.5\n",
      "Accuracy for svm: 0.7\n"
     ]
    }
   ],
   "source": [
    "print('Accuracy for knn: {}'.format(acc_knn))\n",
    "print('Accuracy for decision tree: {}'.format(acc_decision_tree))\n",
    "print('Accuracy for logistic regression: {}'.format(acc_logisitic_regression))\n",
    "print('Accuracy for percepton: {}'.format(acc_percepton))\n",
    "print('Accuracy for svm: {}'.format(acc_svm))"
   ]
  },
  {
   "cell_type": "markdown",
   "metadata": {},
   "source": [
    "### print best classifier"
   ]
  },
  {
   "cell_type": "code",
   "execution_count": 50,
   "metadata": {},
   "outputs": [
    {
     "name": "stdout",
     "output_type": "stream",
     "text": [
      "Classifier with highest accuracy is logistic regression\n"
     ]
    }
   ],
   "source": [
    "classifiers = {0: 'knn', 1: 'decision tree', 2: 'logistic regression', 3: 'percepton', 4: 'svm'}\n",
    "index = np.argmax([acc_knn, acc_decision_tree, acc_logisitic_regression, acc_percepton, acc_svm])\n",
    "print('Classifier with highest accuracy is {}'.format(classifiers[index]))"
   ]
  }
 ],
 "metadata": {
  "kernelspec": {
   "display_name": "Python [conda env:python35]",
   "language": "python",
   "name": "conda-env-python35-py"
  },
  "language_info": {
   "codemirror_mode": {
    "name": "ipython",
    "version": 3
   },
   "file_extension": ".py",
   "mimetype": "text/x-python",
   "name": "python",
   "nbconvert_exporter": "python",
   "pygments_lexer": "ipython3",
   "version": "3.5.4"
  }
 },
 "nbformat": 4,
 "nbformat_minor": 1
}
