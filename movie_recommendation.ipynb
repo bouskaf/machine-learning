{
 "cells": [
  {
   "cell_type": "markdown",
   "metadata": {},
   "source": [
    "# Movie recommendation"
   ]
  },
  {
   "cell_type": "code",
   "execution_count": 2,
   "metadata": {},
   "outputs": [
    {
     "name": "stderr",
     "output_type": "stream",
     "text": [
      "C:\\Anaconda3\\envs\\python35\\lib\\site-packages\\lightfm\\_lightfm_fast.py:9: UserWarning: LightFM was compiled without OpenMP support. Only a single thread will be used.\n",
      "  warnings.warn('LightFM was compiled without OpenMP support. '\n"
     ]
    }
   ],
   "source": [
    "import numpy as np\n",
    "from lightfm.datasets import fetch_movielens\n",
    "from lightfm import LightFM"
   ]
  },
  {
   "cell_type": "markdown",
   "metadata": {},
   "source": [
    "download Movielens dataset"
   ]
  },
  {
   "cell_type": "code",
   "execution_count": 3,
   "metadata": {},
   "outputs": [],
   "source": [
    "data = fetch_movielens(min_rating=4.0)"
   ]
  },
  {
   "cell_type": "markdown",
   "metadata": {},
   "source": [
    "TODO write own fetch and format method for a different recommendationdataset. \n",
    "\n",
    "https://gist.github.com/entaroadun/1653794"
   ]
  },
  {
   "cell_type": "code",
   "execution_count": 10,
   "metadata": {},
   "outputs": [
    {
     "name": "stdout",
     "output_type": "stream",
     "text": [
      "<943x1682 sparse matrix of type '<class 'numpy.int32'>'\n",
      "\twith 49906 stored elements in COOrdinate format>\n",
      "<943x1682 sparse matrix of type '<class 'numpy.int32'>'\n",
      "\twith 5469 stored elements in COOrdinate format>\n"
     ]
    }
   ],
   "source": [
    "print(repr(data['train']))\n",
    "print(repr(data['test']))"
   ]
  },
  {
   "cell_type": "markdown",
   "metadata": {},
   "source": [
    "create models"
   ]
  },
  {
   "cell_type": "code",
   "execution_count": 18,
   "metadata": {},
   "outputs": [],
   "source": [
    "model_warp = LightFM(loss='warp')\n",
    "model_logistic = LightFM(loss='logistic')\n",
    "model_bpr = LightFM(loss='bpr')\n",
    "model_warp_kos = LightFM(loss='warp-kos')"
   ]
  },
  {
   "cell_type": "markdown",
   "metadata": {},
   "source": [
    "train model"
   ]
  },
  {
   "cell_type": "code",
   "execution_count": 19,
   "metadata": {},
   "outputs": [
    {
     "data": {
      "text/plain": [
       "<lightfm.lightfm.LightFM at 0x1e062c41d30>"
      ]
     },
     "execution_count": 19,
     "metadata": {},
     "output_type": "execute_result"
    }
   ],
   "source": [
    "model_warp.fit(data['train'], epochs=30, num_threads=4)\n",
    "model_logistic.fit(data['train'], epochs=30, num_threads=4)\n",
    "model_bpr.fit(data['train'], epochs=30, num_threads=4)\n",
    "model_warp_kos.fit(data['train'], epochs=30, num_threads=4)"
   ]
  },
  {
   "cell_type": "code",
   "execution_count": 20,
   "metadata": {},
   "outputs": [],
   "source": [
    "def sample_recommendation(model, data, user_ids):\n",
    "    # number of users and movies in training data\n",
    "    n_users, n_items = data['train'].shape\n",
    "\n",
    "    # generate recommendations for each user we input\n",
    "    for user_id in user_ids:\n",
    "\n",
    "        # movies they already like\n",
    "        known_positives = data['item_labels'][data['train'].tocsr()[user_id].indices]\n",
    "\n",
    "        # movies our model predicts they will like\n",
    "        scores = model.predict(user_id, np.arange(n_items))\n",
    "        # rank them in order of most liked to least\n",
    "        top_items = data['item_labels'][np.argsort(-scores)]\n",
    "\n",
    "        # print out the results\n",
    "        print(\"User %s\" % user_id)\n",
    "        print(\"     Known positives:\")\n",
    "\n",
    "        for x in known_positives[:3]:\n",
    "            print(\"        %s\" % x)\n",
    "\n",
    "        print(\"     Recommended:\")\n",
    "\n",
    "        for x in top_items[:3]:\n",
    "            print(\"        %s\" % x)"
   ]
  },
  {
   "cell_type": "code",
   "execution_count": 24,
   "metadata": {},
   "outputs": [
    {
     "name": "stdout",
     "output_type": "stream",
     "text": [
      "User 1\n",
      "     Known positives:\n",
      "        Toy Story (1995)\n",
      "        Postino, Il (1994)\n",
      "        Birdcage, The (1996)\n",
      "     Recommended:\n",
      "        English Patient, The (1996)\n",
      "        Sense and Sensibility (1995)\n",
      "        Air Force One (1997)\n",
      "User 1\n",
      "     Known positives:\n",
      "        Toy Story (1995)\n",
      "        Postino, Il (1994)\n",
      "        Birdcage, The (1996)\n",
      "     Recommended:\n",
      "        Star Wars (1977)\n",
      "        Fargo (1996)\n",
      "        Return of the Jedi (1983)\n",
      "User 1\n",
      "     Known positives:\n",
      "        Toy Story (1995)\n",
      "        Postino, Il (1994)\n",
      "        Birdcage, The (1996)\n",
      "     Recommended:\n",
      "        English Patient, The (1996)\n",
      "        Seven Years in Tibet (1997)\n",
      "        Ulee's Gold (1997)\n",
      "User 1\n",
      "     Known positives:\n",
      "        Toy Story (1995)\n",
      "        Postino, Il (1994)\n",
      "        Birdcage, The (1996)\n",
      "     Recommended:\n",
      "        English Patient, The (1996)\n",
      "        Contact (1997)\n",
      "        Leaving Las Vegas (1995)\n"
     ]
    }
   ],
   "source": [
    "sample_recommendation(model_warp, data, [1])\n",
    "sample_recommendation(model_logistic, data, [1])\n",
    "sample_recommendation(model_bpr, data, [1])\n",
    "sample_recommendation(model_warp_kos, data, [1])"
   ]
  },
  {
   "cell_type": "code",
   "execution_count": null,
   "metadata": {},
   "outputs": [],
   "source": []
  }
 ],
 "metadata": {
  "kernelspec": {
   "display_name": "Python [conda env:python35]",
   "language": "python",
   "name": "conda-env-python35-py"
  },
  "language_info": {
   "codemirror_mode": {
    "name": "ipython",
    "version": 3
   },
   "file_extension": ".py",
   "mimetype": "text/x-python",
   "name": "python",
   "nbconvert_exporter": "python",
   "pygments_lexer": "ipython3",
   "version": "3.5.4"
  }
 },
 "nbformat": 4,
 "nbformat_minor": 2
}
